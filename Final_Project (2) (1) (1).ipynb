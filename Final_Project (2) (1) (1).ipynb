{
 "cells": [
  {
   "cell_type": "markdown",
   "id": "6cb5005f-f9df-4be0-87fa-5e89c961814d",
   "metadata": {},
   "source": [
    "import all necessary libraries:"
   ]
  },
  {
   "cell_type": "code",
   "execution_count": 21,
   "id": "88e283bc-8713-4786-a840-07e8d5576910",
   "metadata": {},
   "outputs": [],
   "source": [
    "import seaborn as sns\n",
    "import matplotlib.pyplot as plt\n",
    "import plotly.express as px\n",
    "import numpy as np\n",
    "import pandas as pd"
   ]
  },
  {
   "cell_type": "markdown",
   "id": "e3155b1f-1b38-4627-8940-c7931d5ee56b",
   "metadata": {},
   "source": [
    "clean the data set:"
   ]
  },
  {
   "cell_type": "code",
   "execution_count": 22,
   "id": "d5aad02b-25a9-4fd1-bf54-dff00b46dca7",
   "metadata": {},
   "outputs": [
    {
     "data": {
      "text/html": [
       "<div>\n",
       "<style scoped>\n",
       "    .dataframe tbody tr th:only-of-type {\n",
       "        vertical-align: middle;\n",
       "    }\n",
       "\n",
       "    .dataframe tbody tr th {\n",
       "        vertical-align: top;\n",
       "    }\n",
       "\n",
       "    .dataframe thead th {\n",
       "        text-align: right;\n",
       "    }\n",
       "</style>\n",
       "<table border=\"1\" class=\"dataframe\">\n",
       "  <thead>\n",
       "    <tr style=\"text-align: right;\">\n",
       "      <th></th>\n",
       "      <th>time_signature</th>\n",
       "      <th>track_popularity</th>\n",
       "      <th>speechiness</th>\n",
       "      <th>danceability</th>\n",
       "      <th>playlist_name</th>\n",
       "      <th>track_artist</th>\n",
       "      <th>duration_ms</th>\n",
       "      <th>energy</th>\n",
       "      <th>playlist_genre</th>\n",
       "      <th>playlist_subgenre</th>\n",
       "      <th>...</th>\n",
       "      <th>playlist_id</th>\n",
       "      <th>track_id</th>\n",
       "      <th>valence</th>\n",
       "      <th>key</th>\n",
       "      <th>tempo</th>\n",
       "      <th>loudness</th>\n",
       "      <th>acousticness</th>\n",
       "      <th>liveness</th>\n",
       "      <th>track_album_name</th>\n",
       "      <th>is_high</th>\n",
       "    </tr>\n",
       "  </thead>\n",
       "  <tbody>\n",
       "    <tr>\n",
       "      <th>0</th>\n",
       "      <td>4.0</td>\n",
       "      <td>23</td>\n",
       "      <td>0.0393</td>\n",
       "      <td>0.636</td>\n",
       "      <td>Rock Classics</td>\n",
       "      <td>Creedence Clearwater Revival</td>\n",
       "      <td>138053.0</td>\n",
       "      <td>0.746</td>\n",
       "      <td>rock</td>\n",
       "      <td>classic</td>\n",
       "      <td>...</td>\n",
       "      <td>37i9dQZF1DWXRqgorJj26U</td>\n",
       "      <td>5e6x5YRnMJIKvYpZxLqdpH</td>\n",
       "      <td>0.432</td>\n",
       "      <td>0.0</td>\n",
       "      <td>132.310</td>\n",
       "      <td>-3.785</td>\n",
       "      <td>0.0648</td>\n",
       "      <td>0.1730</td>\n",
       "      <td>The Long Road Home - The Ultimate John Fogerty...</td>\n",
       "      <td>0</td>\n",
       "    </tr>\n",
       "    <tr>\n",
       "      <th>1</th>\n",
       "      <td>4.0</td>\n",
       "      <td>53</td>\n",
       "      <td>0.0317</td>\n",
       "      <td>0.572</td>\n",
       "      <td>Rock Classics</td>\n",
       "      <td>Van Halen</td>\n",
       "      <td>241600.0</td>\n",
       "      <td>0.835</td>\n",
       "      <td>rock</td>\n",
       "      <td>classic</td>\n",
       "      <td>...</td>\n",
       "      <td>37i9dQZF1DWXRqgorJj26U</td>\n",
       "      <td>5FqYA8KfiwsQvyBI4IamnY</td>\n",
       "      <td>0.795</td>\n",
       "      <td>0.0</td>\n",
       "      <td>129.981</td>\n",
       "      <td>-6.219</td>\n",
       "      <td>0.1710</td>\n",
       "      <td>0.0702</td>\n",
       "      <td>The Collection</td>\n",
       "      <td>0</td>\n",
       "    </tr>\n",
       "    <tr>\n",
       "      <th>2</th>\n",
       "      <td>4.0</td>\n",
       "      <td>55</td>\n",
       "      <td>0.0454</td>\n",
       "      <td>0.591</td>\n",
       "      <td>Rock Classics</td>\n",
       "      <td>Stevie Nicks</td>\n",
       "      <td>329413.0</td>\n",
       "      <td>0.804</td>\n",
       "      <td>rock</td>\n",
       "      <td>classic</td>\n",
       "      <td>...</td>\n",
       "      <td>37i9dQZF1DWXRqgorJj26U</td>\n",
       "      <td>5LNiqEqpDc8TuqPy79kDBu</td>\n",
       "      <td>0.658</td>\n",
       "      <td>0.0</td>\n",
       "      <td>111.457</td>\n",
       "      <td>-7.299</td>\n",
       "      <td>0.3270</td>\n",
       "      <td>0.0818</td>\n",
       "      <td>Bella Donna (Deluxe Edition)</td>\n",
       "      <td>0</td>\n",
       "    </tr>\n",
       "    <tr>\n",
       "      <th>3</th>\n",
       "      <td>4.0</td>\n",
       "      <td>64</td>\n",
       "      <td>0.1010</td>\n",
       "      <td>0.443</td>\n",
       "      <td>Jazz Classics</td>\n",
       "      <td>Ella Fitzgerald, Louis Armstrong</td>\n",
       "      <td>185160.0</td>\n",
       "      <td>0.104</td>\n",
       "      <td>jazz</td>\n",
       "      <td>classic</td>\n",
       "      <td>...</td>\n",
       "      <td>37i9dQZF1DXbITWG1ZJKYt</td>\n",
       "      <td>78MI7mu1LV1k4IA2HzKmHe</td>\n",
       "      <td>0.394</td>\n",
       "      <td>0.0</td>\n",
       "      <td>76.474</td>\n",
       "      <td>-17.042</td>\n",
       "      <td>0.9130</td>\n",
       "      <td>0.1910</td>\n",
       "      <td>Love, Ella</td>\n",
       "      <td>0</td>\n",
       "    </tr>\n",
       "    <tr>\n",
       "      <th>4</th>\n",
       "      <td>4.0</td>\n",
       "      <td>62</td>\n",
       "      <td>0.0298</td>\n",
       "      <td>0.685</td>\n",
       "      <td>Jazz Classics</td>\n",
       "      <td>Galt MacDermot</td>\n",
       "      <td>205720.0</td>\n",
       "      <td>0.472</td>\n",
       "      <td>jazz</td>\n",
       "      <td>classic</td>\n",
       "      <td>...</td>\n",
       "      <td>37i9dQZF1DXbITWG1ZJKYt</td>\n",
       "      <td>6MN6yRVriszuyAVlyF8ndB</td>\n",
       "      <td>0.475</td>\n",
       "      <td>9.0</td>\n",
       "      <td>80.487</td>\n",
       "      <td>-9.691</td>\n",
       "      <td>0.7850</td>\n",
       "      <td>0.2240</td>\n",
       "      <td>Shapes of Rhythm/Woman Is Sweeter</td>\n",
       "      <td>0</td>\n",
       "    </tr>\n",
       "    <tr>\n",
       "      <th>...</th>\n",
       "      <td>...</td>\n",
       "      <td>...</td>\n",
       "      <td>...</td>\n",
       "      <td>...</td>\n",
       "      <td>...</td>\n",
       "      <td>...</td>\n",
       "      <td>...</td>\n",
       "      <td>...</td>\n",
       "      <td>...</td>\n",
       "      <td>...</td>\n",
       "      <td>...</td>\n",
       "      <td>...</td>\n",
       "      <td>...</td>\n",
       "      <td>...</td>\n",
       "      <td>...</td>\n",
       "      <td>...</td>\n",
       "      <td>...</td>\n",
       "      <td>...</td>\n",
       "      <td>...</td>\n",
       "      <td>...</td>\n",
       "      <td>...</td>\n",
       "    </tr>\n",
       "    <tr>\n",
       "      <th>4826</th>\n",
       "      <td>5.0</td>\n",
       "      <td>76</td>\n",
       "      <td>0.0678</td>\n",
       "      <td>0.573</td>\n",
       "      <td>Afro-Latin Party</td>\n",
       "      <td>Libianca</td>\n",
       "      <td>184791.0</td>\n",
       "      <td>0.422</td>\n",
       "      <td>latin</td>\n",
       "      <td>afro-latin</td>\n",
       "      <td>...</td>\n",
       "      <td>0oU30cCr8klmMsuOKHDLkh</td>\n",
       "      <td>26b3oVLrRUaaybJulow9kz</td>\n",
       "      <td>0.693</td>\n",
       "      <td>10.0</td>\n",
       "      <td>124.357</td>\n",
       "      <td>-7.621</td>\n",
       "      <td>0.5510</td>\n",
       "      <td>0.1020</td>\n",
       "      <td>People</td>\n",
       "      <td>1</td>\n",
       "    </tr>\n",
       "    <tr>\n",
       "      <th>4827</th>\n",
       "      <td>4.0</td>\n",
       "      <td>74</td>\n",
       "      <td>0.0941</td>\n",
       "      <td>0.711</td>\n",
       "      <td>Afro-Latin Party</td>\n",
       "      <td>Omah Lay</td>\n",
       "      <td>183057.0</td>\n",
       "      <td>0.725</td>\n",
       "      <td>latin</td>\n",
       "      <td>afro-latin</td>\n",
       "      <td>...</td>\n",
       "      <td>0oU30cCr8klmMsuOKHDLkh</td>\n",
       "      <td>1wADwLSkYhrSmy4vdy6BRn</td>\n",
       "      <td>0.530</td>\n",
       "      <td>3.0</td>\n",
       "      <td>105.016</td>\n",
       "      <td>-8.315</td>\n",
       "      <td>0.4240</td>\n",
       "      <td>0.1100</td>\n",
       "      <td>Boy Alone</td>\n",
       "      <td>1</td>\n",
       "    </tr>\n",
       "    <tr>\n",
       "      <th>4828</th>\n",
       "      <td>4.0</td>\n",
       "      <td>69</td>\n",
       "      <td>0.0929</td>\n",
       "      <td>0.724</td>\n",
       "      <td>Afro-Latin Party</td>\n",
       "      <td>Davido, FAVE</td>\n",
       "      <td>194040.0</td>\n",
       "      <td>0.809</td>\n",
       "      <td>latin</td>\n",
       "      <td>afro-latin</td>\n",
       "      <td>...</td>\n",
       "      <td>0oU30cCr8klmMsuOKHDLkh</td>\n",
       "      <td>7vKXc90NT5WBm3UTT4iTVG</td>\n",
       "      <td>0.606</td>\n",
       "      <td>6.0</td>\n",
       "      <td>99.005</td>\n",
       "      <td>-5.022</td>\n",
       "      <td>0.1820</td>\n",
       "      <td>0.0765</td>\n",
       "      <td>Timeless</td>\n",
       "      <td>1</td>\n",
       "    </tr>\n",
       "    <tr>\n",
       "      <th>4829</th>\n",
       "      <td>4.0</td>\n",
       "      <td>82</td>\n",
       "      <td>0.3400</td>\n",
       "      <td>0.463</td>\n",
       "      <td>Afro-Latin Party</td>\n",
       "      <td>Future, Drake, Tems</td>\n",
       "      <td>189893.0</td>\n",
       "      <td>0.642</td>\n",
       "      <td>latin</td>\n",
       "      <td>afro-latin</td>\n",
       "      <td>...</td>\n",
       "      <td>0oU30cCr8klmMsuOKHDLkh</td>\n",
       "      <td>59nOXPmaKlBfGMDeOVGrIK</td>\n",
       "      <td>0.339</td>\n",
       "      <td>1.0</td>\n",
       "      <td>83.389</td>\n",
       "      <td>-4.474</td>\n",
       "      <td>0.3140</td>\n",
       "      <td>0.0686</td>\n",
       "      <td>I NEVER LIKED YOU</td>\n",
       "      <td>1</td>\n",
       "    </tr>\n",
       "    <tr>\n",
       "      <th>4830</th>\n",
       "      <td>4.0</td>\n",
       "      <td>69</td>\n",
       "      <td>0.1280</td>\n",
       "      <td>0.645</td>\n",
       "      <td>Scandi Pop</td>\n",
       "      <td>Alan Walker, Ina Wroldsen</td>\n",
       "      <td>205087.0</td>\n",
       "      <td>0.890</td>\n",
       "      <td>pop</td>\n",
       "      <td>scandi</td>\n",
       "      <td>...</td>\n",
       "      <td>59z06GgF6TTDbm5cr1RZUC</td>\n",
       "      <td>2GE3k8I0Sbh0puCjI15KGy</td>\n",
       "      <td>0.421</td>\n",
       "      <td>6.0</td>\n",
       "      <td>126.881</td>\n",
       "      <td>-4.985</td>\n",
       "      <td>0.2590</td>\n",
       "      <td>0.3760</td>\n",
       "      <td>Barcelona</td>\n",
       "      <td>1</td>\n",
       "    </tr>\n",
       "  </tbody>\n",
       "</table>\n",
       "<p>4426 rows × 30 columns</p>\n",
       "</div>"
      ],
      "text/plain": [
       "      time_signature  track_popularity  speechiness  danceability  \\\n",
       "0                4.0                23       0.0393         0.636   \n",
       "1                4.0                53       0.0317         0.572   \n",
       "2                4.0                55       0.0454         0.591   \n",
       "3                4.0                64       0.1010         0.443   \n",
       "4                4.0                62       0.0298         0.685   \n",
       "...              ...               ...          ...           ...   \n",
       "4826             5.0                76       0.0678         0.573   \n",
       "4827             4.0                74       0.0941         0.711   \n",
       "4828             4.0                69       0.0929         0.724   \n",
       "4829             4.0                82       0.3400         0.463   \n",
       "4830             4.0                69       0.1280         0.645   \n",
       "\n",
       "         playlist_name                      track_artist  duration_ms  energy  \\\n",
       "0        Rock Classics      Creedence Clearwater Revival     138053.0   0.746   \n",
       "1        Rock Classics                         Van Halen     241600.0   0.835   \n",
       "2        Rock Classics                      Stevie Nicks     329413.0   0.804   \n",
       "3        Jazz Classics  Ella Fitzgerald, Louis Armstrong     185160.0   0.104   \n",
       "4        Jazz Classics                    Galt MacDermot     205720.0   0.472   \n",
       "...                ...                               ...          ...     ...   \n",
       "4826  Afro-Latin Party                          Libianca     184791.0   0.422   \n",
       "4827  Afro-Latin Party                          Omah Lay     183057.0   0.725   \n",
       "4828  Afro-Latin Party                      Davido, FAVE     194040.0   0.809   \n",
       "4829  Afro-Latin Party               Future, Drake, Tems     189893.0   0.642   \n",
       "4830        Scandi Pop         Alan Walker, Ina Wroldsen     205087.0   0.890   \n",
       "\n",
       "     playlist_genre playlist_subgenre  ...             playlist_id  \\\n",
       "0              rock           classic  ...  37i9dQZF1DWXRqgorJj26U   \n",
       "1              rock           classic  ...  37i9dQZF1DWXRqgorJj26U   \n",
       "2              rock           classic  ...  37i9dQZF1DWXRqgorJj26U   \n",
       "3              jazz           classic  ...  37i9dQZF1DXbITWG1ZJKYt   \n",
       "4              jazz           classic  ...  37i9dQZF1DXbITWG1ZJKYt   \n",
       "...             ...               ...  ...                     ...   \n",
       "4826          latin        afro-latin  ...  0oU30cCr8klmMsuOKHDLkh   \n",
       "4827          latin        afro-latin  ...  0oU30cCr8klmMsuOKHDLkh   \n",
       "4828          latin        afro-latin  ...  0oU30cCr8klmMsuOKHDLkh   \n",
       "4829          latin        afro-latin  ...  0oU30cCr8klmMsuOKHDLkh   \n",
       "4830            pop            scandi  ...  59z06GgF6TTDbm5cr1RZUC   \n",
       "\n",
       "                    track_id  valence   key    tempo loudness acousticness  \\\n",
       "0     5e6x5YRnMJIKvYpZxLqdpH    0.432   0.0  132.310   -3.785       0.0648   \n",
       "1     5FqYA8KfiwsQvyBI4IamnY    0.795   0.0  129.981   -6.219       0.1710   \n",
       "2     5LNiqEqpDc8TuqPy79kDBu    0.658   0.0  111.457   -7.299       0.3270   \n",
       "3     78MI7mu1LV1k4IA2HzKmHe    0.394   0.0   76.474  -17.042       0.9130   \n",
       "4     6MN6yRVriszuyAVlyF8ndB    0.475   9.0   80.487   -9.691       0.7850   \n",
       "...                      ...      ...   ...      ...      ...          ...   \n",
       "4826  26b3oVLrRUaaybJulow9kz    0.693  10.0  124.357   -7.621       0.5510   \n",
       "4827  1wADwLSkYhrSmy4vdy6BRn    0.530   3.0  105.016   -8.315       0.4240   \n",
       "4828  7vKXc90NT5WBm3UTT4iTVG    0.606   6.0   99.005   -5.022       0.1820   \n",
       "4829  59nOXPmaKlBfGMDeOVGrIK    0.339   1.0   83.389   -4.474       0.3140   \n",
       "4830  2GE3k8I0Sbh0puCjI15KGy    0.421   6.0  126.881   -4.985       0.2590   \n",
       "\n",
       "     liveness                                   track_album_name is_high  \n",
       "0      0.1730  The Long Road Home - The Ultimate John Fogerty...       0  \n",
       "1      0.0702                                     The Collection       0  \n",
       "2      0.0818                       Bella Donna (Deluxe Edition)       0  \n",
       "3      0.1910                                         Love, Ella       0  \n",
       "4      0.2240                  Shapes of Rhythm/Woman Is Sweeter       0  \n",
       "...       ...                                                ...     ...  \n",
       "4826   0.1020                                             People       1  \n",
       "4827   0.1100                                          Boy Alone       1  \n",
       "4828   0.0765                                           Timeless       1  \n",
       "4829   0.0686                                  I NEVER LIKED YOU       1  \n",
       "4830   0.3760                                          Barcelona       1  \n",
       "\n",
       "[4426 rows x 30 columns]"
      ]
     },
     "metadata": {},
     "output_type": "display_data"
    }
   ],
   "source": [
    "#combining data sets\n",
    "low_popularity = pd.read_csv('low_popularity_spotify_data.csv')\n",
    "high_popularity = pd.read_csv('high_popularity_spotify_data.csv')\n",
    "\n",
    "#create a column which is 0 when the data comes from the lower set, and 1 when the data is from the higher set\n",
    "low_popularity['is_High'] = 0\n",
    "high_popularity['is_High'] = 1\n",
    "\n",
    "spotify_data = pd.concat([low_popularity, high_popularity], ignore_index=True)\n",
    "spotify_data.to_csv('combined_spotify_data.csv', index=False)\n",
    "\n",
    "#checking for null values and removing them\n",
    "spotify_data.isnull().sum()\n",
    "spotify_data.dropna(inplace=True)\n",
    "\n",
    "# using IQR to remove outliers\n",
    "Q1 = spotify_data['loudness'].quantile(0.25)\n",
    "Q3 = spotify_data['loudness'].quantile(0.75)\n",
    "IQR = Q3 - Q1\n",
    "\n",
    "spotify_data = spotify_data[\n",
    "    ~((spotify_data['loudness'] < (Q1 - 1.5 * IQR)) | \n",
    "      (spotify_data['loudness'] > (Q3 + 1.5 * IQR)))\n",
    "]\n",
    "\n",
    "\n",
    "#remove any duplicated and standardize column names\n",
    "spotify_data.drop_duplicates(inplace=True)\n",
    "spotify_data.columns = spotify_data.columns.str.strip().str.lower().str.replace(' ', '_')\n",
    "\n",
    "display(spotify_data)"
   ]
  },
  {
   "cell_type": "markdown",
   "id": "59c2c146-7553-436d-b2b9-61807b0231c1",
   "metadata": {},
   "source": [
    "Here are a few graphs exploring the data:"
   ]
  },
  {
   "cell_type": "code",
   "execution_count": null,
   "id": "efcfea54-87b8-4a0a-98e1-780f05811a74",
   "metadata": {},
   "outputs": [],
   "source": [
    "fig = px.scatter(spotify_data, x=\"energy\",y=\"danceability\",color=\"is_high\",title=\"Energy vs Danceability\", labels={'x':'Energy', 'y':'Danceability'})\n",
    "fig.show()"
   ]
  },
  {
   "cell_type": "markdown",
   "id": "3a82ad1b-812c-463b-9753-83faf9d5a774",
   "metadata": {},
   "source": [
    "As you can see, the points are mostly clustered where danceability and energy are both relatively high. This means that both danceability and energy go hand-in-hand across all songs. However, it is important to acknowledge that although both low and high-ranking songs are clustered towrds regions where energy is higher, the points representing high ranking songs are sparse where energy is low. This could indicate that although both low and high-ranking songs have a similar range in terms of danceability, lower-ranking songs are more likely to lack energy. "
   ]
  },
  {
   "cell_type": "markdown",
   "id": "5f8f9162-fadd-4ea4-a32c-99ebd85015df",
   "metadata": {},
   "source": [
    "Here is a boxplot of the distributions of genre on liveness:"
   ]
  },
  {
   "cell_type": "code",
   "execution_count": 6,
   "id": "75eeebdf-256c-435b-a90b-12807a604d8e",
   "metadata": {},
   "outputs": [
    {
     "data": {
      "text/plain": [
       "Text(0, 0.5, 'Energy')"
      ]
     },
     "execution_count": 6,
     "metadata": {},
     "output_type": "execute_result"
    },
    {
     "data": {
      "image/png": "[encoded data removed]",
      "text/plain": [
       "<Figure size 1400x1000 with 1 Axes>"
      ]
     },
     "metadata": {},
     "output_type": "display_data"
    }
   ],
   "source": [
    "plt.figure(figsize=(14, 10))\n",
    "sns.boxplot(spotify_data,x = \"is_high\",y=\"energy\")\n",
    "plt.title(\"Boxplot of Energy vs Ranking\")\n",
    "plt.xlabel(\"Ranking (low = 0, high = 1)\")\n",
    "plt.ylabel(\"Energy\")"
   ]
  },
  {
   "cell_type": "markdown",
   "id": "d0f9ed2a-a929-4651-acda-2e49683da38f",
   "metadata": {},
   "source": [
    "The ranking with the smallest IQR range and variance is higher ranking music. This means that higher ranked music has relatively consistent energy levels while lower-ranked songs have varying energy levels. As seen in the figure, higher ranked music has a larger median energy level than lower-ranked music. It is very important to acknowledge that higher-ranked music has a smaller range of values which are on the higher energy side of the graph, with outliers on the lower energy level side. This means that it is more rare for higher-ranked songs to have lower energy levels."
   ]
  },
  {
   "cell_type": "markdown",
   "id": "7804f05b-283e-4cfb-97f1-1b52dc626412",
   "metadata": {},
   "source": [
    "Here are boxplots representing mutliple important numerical values that can be differentiated for High and Low-Ranking music:"
   ]
  },
  {
   "cell_type": "code",
   "execution_count": 24,
   "id": "9c7e3d78-0f6d-4f55-b119-73a385a4e16c",
   "metadata": {},
   "outputs": [
    {
     "data": {
      "image/png": "[encoded data removed]",
      "text/plain": [
       "<Figure size 640x480 with 4 Axes>"
      ]
     },
     "metadata": {},
     "output_type": "display_data"
    }
   ],
   "source": [
    "figure,plots = plt.subplots(2,2)\n",
    "\n",
    "speechiness_low = spotify_data.loc[spotify_data['is_high'] == 0, 'speechiness']\n",
    "speechiness_high = spotify_data.loc[spotify_data['is_high'] == 1, 'speechiness']\n",
    "plots[0,0].boxplot([speechiness_low, speechiness_high])\n",
    "plots[0,0].set_title(\"Speechiness\")\n",
    "\n",
    "valence_low = spotify_data.loc[spotify_data['is_high'] == 0, 'valence']\n",
    "valence_high = spotify_data.loc[spotify_data['is_high'] == 1, 'valence']\n",
    "plots[0,1].boxplot([valence_low, valence_high])\n",
    "plots[0,1].set_title(\"Valence\")\n",
    "\n",
    "tempo_low = spotify_data.loc[spotify_data['is_high'] == 0, 'tempo']\n",
    "tempo_high = spotify_data.loc[spotify_data['is_high'] == 1, 'tempo']\n",
    "plots[1,0].boxplot([tempo_low, tempo_high])\n",
    "plots[1,0].set_title(\"Tempo\")\n",
    "\n",
    "loudness_low = spotify_data.loc[spotify_data['is_high'] == 0, 'loudness']\n",
    "loudness_high = spotify_data.loc[spotify_data['is_high'] == 1, 'loudness']\n",
    "plots[1,1].boxplot([loudness_low, loudness_high])\n",
    "plots[1,1].set_title(\"Loudness\")\n",
    "\n",
    "plt.tight_layout()\n",
    "plt.show()"
   ]
  },
  {
   "cell_type": "markdown",
   "id": "a55a14a6-812e-4943-8eae-6a8575792537",
   "metadata": {},
   "source": [
    "Through this, we can see that the distributions for both high and low ranking songs are extremely similar for speechiness, valence, and tempo. However, it is important to acknolwedge that the median of the high-ranked music is slightly higher in valence and slightly lower in speechiness, in comparison to the lower-ranked songs. In addition to this, lower-ranked songs have a slightly larger IQR for tempo, than higher-ranked songs. This means that although they have a similar range, tempo varies more in lower-ranked songs than in higher-ranked songs. \n",
    "\n",
    "The loudness distribution displays the most difference between the ranked songs. The median for higher-ranked songs is larger than lower-ranked songs. This is also supported by the extreme amount of outliers that fall below the higher-ranked song distribution. This indicates that higher-ranked songs typically have a louder track in terms of decibals. "
   ]
  },
  {
   "cell_type": "code",
   "execution_count": null,
   "id": "70427765-0058-47a6-a02d-775452633de8",
   "metadata": {},
   "outputs": [],
   "source": [
    "sns.regplot(x=\"loudness\", y=\"energy\", data=spotify_data, scatter_kws={'alpha': 0.1})\n",
    "plt.title(\"Energy vs Loudness\")\n",
    "plt.xlabel(\"Loudness\")\n",
    "plt.ylabel(\"Energy\")"
   ]
  },
  {
   "cell_type": "markdown",
   "id": "5af71a04-69d7-45f8-b333-024c67533c04",
   "metadata": {},
   "source": [
    "As seen so far, we have discovered that higher-ranking songs typically have higher energy and loudness levels compared to lower-ranking songs. Looking at the plot, although the regression line shows an upward trend, it does not guarantee that Energy and Loudness go hand in hand.  However, there is a lot of clustering around the linear regression line, indicating that it is common to see energy and loudness increasing with one another. It is also important to acknowledge that the cloud of clustering occurs near (-6.0,0.7)."
   ]
  },
  {
   "cell_type": "markdown",
   "id": "ba11b651-7767-4836-ac46-660eaa152cef",
   "metadata": {},
   "source": [
    "Here is a comparison between Genres and Ranking of songs:"
   ]
  },
  {
   "cell_type": "code",
   "execution_count": null,
   "id": "a658c3db-164f-4604-8ba0-b7636d04716e",
   "metadata": {},
   "outputs": [],
   "source": [
    "plt.figure(figsize=(14, 10))\n",
    "sns.countplot(hue='is_high', x='playlist_genre', data=spotify_data)\n",
    "plt.title(\"Frequency Plot of Genre per Ranking\")\n",
    "plt.xlabel(\"Ranking\")\n",
    "plt.ylabel(\"Frequency\")\n",
    "plt.xticks(rotation=45)\n",
    "plt.show()"
   ]
  },
  {
   "cell_type": "markdown",
   "id": "85fa2d02-c95e-4ef8-ae96-757a32cc1647",
   "metadata": {},
   "source": [
    "Since most of the data lies in higher frequency categories, we will not go over the less frequent categories in as much detail. \n",
    "\n",
    "As seen in this plot, some of the genres that lower-ranked songs dominate are jazz, latin, lofi, arabic, electronic, brazilian, ambient, and world. While higher-ranked songs dominate rock, hip-hop, and pop. This makes sense because a lot of the higher-ranked songs come from genres which are mainstream and very well-known genres, while lower-ranked songs come from more niche genres. "
   ]
  },
  {
   "cell_type": "code",
   "execution_count": 27,
   "id": "51ed7bae-da69-4d91-886e-e1199a0ab003",
   "metadata": {},
   "outputs": [],
   "source": [
    "# #label encode so that we can apply linear regression\n",
    "# from sklearn.preprocessing import LabelEncoder\n",
    "\n",
    "# print(spotify_data.dtypes)\n",
    "\n",
    "# categorical_cols = ['playlist_name', 'track_artist', 'playlist_genre', 'playlist_subgenre', 'track_album_name']\n",
    "\n",
    "# label_encoder = LabelEncoder()\n",
    "# for col in categorical_cols:\n",
    "#     spotify_data[col] = label_encoder.fit_transform(spotify_data[col])\n",
    "\n",
    "# display(spotify_data)"
   ]
  },
  {
   "cell_type": "code",
   "execution_count": 23,
   "id": "eda47c37-a3cf-4dae-8b5c-06d308159601",
   "metadata": {},
   "outputs": [],
   "source": [
    "#linear regression "
   ]
  },
  {
   "cell_type": "code",
   "execution_count": 28,
   "id": "1901e83d-5a66-439c-9bd5-0ab294a256ea",
   "metadata": {},
   "outputs": [],
   "source": [
    "from sklearn.model_selection import train_test_split\n",
    "from sklearn.linear_model import LinearRegression\n",
    "from sklearn.preprocessing import StandardScaler\n",
    "from sklearn.metrics import r2_score"
   ]
  },
  {
   "cell_type": "code",
   "execution_count": 34,
   "id": "aee4b370-cbe8-4b6d-8ef9-b69a70574ae1",
   "metadata": {},
   "outputs": [
    {
     "name": "stdout",
     "output_type": "stream",
     "text": [
      "R² Score: 0.0599\n"
     ]
    }
   ],
   "source": [
    "data = pd.read_csv(\"combined_spotify_data.csv\")\n",
    "\n",
    "# we will take a look at the numerical values first\n",
    "num_data = data.select_dtypes(include=['number'])\n",
    "\n",
    "# features\n",
    "X = num_data.drop(columns=[\"track_popularity\" , \"is_High\"])\n",
    "y = num_data[\"track_popularity\"]\n",
    "\n",
    "X = X.fillna(X.mean())\n",
    "\n",
    "# split data into test and train sets\n",
    "X_train, X_test, y_train, y_test = train_test_split(X,y, random_state = 42)\n",
    "\n",
    "scaler = StandardScaler()\n",
    "X_train_scaled = scaler.fit_transform(X_train)\n",
    "X_test_scaled = scaler.transform(X_test)\n",
    "\n",
    "model = LinearRegression()\n",
    "model.fit(X_train_scaled, y_train)\n",
    "\n",
    "# Predict on the test set\n",
    "y_pred = model.predict(X_test_scaled)\n",
    "\n",
    "# Evaluate the model\n",
    "r2 = r2_score(y_test, y_pred)\n",
    "print(f\"R² Score: {r2:.4f}\")"
   ]
  },
  {
   "cell_type": "code",
   "execution_count": 35,
   "id": "a27c1dac-7dac-49e1-8207-71184c9f2f0b",
   "metadata": {},
   "outputs": [
    {
     "name": "stdout",
     "output_type": "stream",
     "text": [
      "             Feature  Coefficient\n",
      "10          loudness     0.725246\n",
      "8                key     0.648657\n",
      "2       danceability     0.621209\n",
      "5               mode     0.372355\n",
      "9              tempo     0.297462\n",
      "12          liveness    -0.248221\n",
      "4             energy    -0.596999\n",
      "3        duration_ms    -0.721889\n",
      "1        speechiness    -0.796846\n",
      "0     time_signature    -0.930471\n",
      "7            valence    -1.223848\n",
      "11      acousticness    -3.281747\n",
      "6   instrumentalness    -4.261126\n"
     ]
    }
   ],
   "source": [
    "coef_df = pd.DataFrame({\n",
    "    'Feature': X.columns,\n",
    "    'Coefficient': model.coef_\n",
    "}).sort_values(by='Coefficient', ascending=False)\n",
    "\n",
    "print(coef_df)"
   ]
  },
  {
   "cell_type": "code",
   "execution_count": 39,
   "id": "25ec7ea3-fe7a-431c-9c07-03f3e229ea44",
   "metadata": {},
   "outputs": [
    {
     "name": "stderr",
     "output_type": "stream",
     "text": [
      "/usr/local/venv/lib/python3.12/site-packages/sklearn/metrics/_regression.py:492: FutureWarning:\n",
      "\n",
      "'squared' is deprecated in version 1.4 and will be removed in 1.6. To calculate the root mean squared error, use the function'root_mean_squared_error'.\n",
      "\n"
     ]
    }
   ],
   "source": [
    "from sklearn.ensemble import RandomForestRegressor\n",
    "\n",
    "# now we train the Random Forest model\n",
    "rf_model = RandomForestRegressor(random_state=42, n_estimators=100)\n",
    "rf_model.fit(X_train, y_train)\n",
    "\n",
    "rf_pred = rf_model.predict(X_test)\n",
    "\n",
    "r2 = r2_score(y_test, rf_pred)\n",
    "mae = mean_absolute_error(y_test, rf_pred)\n",
    "rmse = mean_squared_error(y_test, rf_pred, squared=False)"
   ]
  },
  {
   "cell_type": "code",
   "execution_count": 38,
   "id": "14319e68-928f-4171-87f1-81f1b0497010",
   "metadata": {},
   "outputs": [
    {
     "name": "stdout",
     "output_type": "stream",
     "text": [
      "Random Forest R² Score: 0.2303\n",
      "MAE: 15.74, RMSE: 19.35\n"
     ]
    },
    {
     "name": "stderr",
     "output_type": "stream",
     "text": [
      "/usr/local/venv/lib/python3.12/site-packages/sklearn/metrics/_regression.py:492: FutureWarning:\n",
      "\n",
      "'squared' is deprecated in version 1.4 and will be removed in 1.6. To calculate the root mean squared error, use the function'root_mean_squared_error'.\n",
      "\n"
     ]
    }
   ],
   "source": [
    "from sklearn.metrics import r2_score, mean_absolute_error, mean_squared_error\n",
    "print(f\"Random Forest R² Score: {r2:.4f}\")\n",
    "\n",
    "mae = mean_absolute_error(y_test, y_pred)\n",
    "rmse = mean_squared_error(y_test, y_pred, squared=False)\n",
    "print(f\"MAE: {mae:.2f}, RMSE: {rmse:.2f}\")"
   ]
  }
 ],
 "metadata": {
  "kernelspec": {
   "display_name": "Python 3 (ipykernel)",
   "language": "python",
   "name": "python3"
  },
  "language_info": {
   "codemirror_mode": {
    "name": "ipython",
    "version": 3
   },
   "file_extension": ".py",
   "mimetype": "text/x-python",
   "name": "python",
   "nbconvert_exporter": "python",
   "pygments_lexer": "ipython3",
   "version": "3.12.7"
  }
 },
 "nbformat": 4,
 "nbformat_minor": 5
}
